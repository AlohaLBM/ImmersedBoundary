{
 "metadata": {
  "name": "visualization"
 },
 "nbformat": 3,
 "nbformat_minor": 0,
 "worksheets": [
  {
   "cells": [
    {
     "cell_type": "code",
     "collapsed": false,
     "input": [
      "import pylab"
     ],
     "language": "python",
     "metadata": {},
     "outputs": [],
     "prompt_number": 1
    },
    {
     "cell_type": "code",
     "collapsed": false,
     "input": [
      "import numpy"
     ],
     "language": "python",
     "metadata": {},
     "outputs": [],
     "prompt_number": 2
    },
    {
     "cell_type": "code",
     "collapsed": false,
     "input": [
      "import vtk"
     ],
     "language": "python",
     "metadata": {},
     "outputs": [],
     "prompt_number": 3
    },
    {
     "cell_type": "code",
     "collapsed": false,
     "input": [
      "ls"
     ],
     "language": "python",
     "metadata": {},
     "outputs": [
      {
       "output_type": "stream",
       "stream": "stdout",
       "text": [
        "\u001b[34mData\u001b[m\u001b[m/                velx0270000.dat      vtk0000000_ref.vtk   vtk0130000.vtk       vtk0250000_imm.vtk   vtk0370000_ref.vtk   vtk0500000.vtk\r\n",
        "coors.dat            velx0280000.dat      vtk0010000.vtk       vtk0130000_imm.vtk   vtk0250000_ref.vtk   vtk0380000.vtk       vtk0500000_imm.vtk\r\n",
        "drags.dat            velx0290000.dat      vtk0010000_imm.vtk   vtk0130000_ref.vtk   vtk0260000.vtk       vtk0380000_imm.vtk   vtk0500000_ref.vtk\r\n",
        "\u001b[31mmain.out\u001b[m\u001b[m*            velx0300000.dat      vtk0010000_ref.vtk   vtk0140000.vtk       vtk0260000_imm.vtk   vtk0380000_ref.vtk   vtk0510000.vtk\r\n",
        "\u001b[34mmain.out.dSYM\u001b[m\u001b[m/       velx0310000.dat      vtk0020000.vtk       vtk0140000_imm.vtk   vtk0260000_ref.vtk   vtk0390000.vtk       vtk0510000_imm.vtk\r\n",
        "\u001b[31mmake_simulation.sh\u001b[m\u001b[m*  velx0320000.dat      vtk0020000_imm.vtk   vtk0140000_ref.vtk   vtk0270000.vtk       vtk0390000_imm.vtk   vtk0510000_ref.vtk\r\n",
        "moving_cylinder.cpp  velx0330000.dat      vtk0020000_ref.vtk   vtk0150000.vtk       vtk0270000_imm.vtk   vtk0390000_ref.vtk   vtk0520000.vtk\r\n",
        "moving_init.cpp      velx0340000.dat      vtk0030000.vtk       vtk0150000_imm.vtk   vtk0270000_ref.vtk   vtk0400000.vtk       vtk0520000_imm.vtk\r\n",
        "\u001b[34mtest1\u001b[m\u001b[m/               velx0350000.dat      vtk0030000_imm.vtk   vtk0150000_ref.vtk   vtk0280000.vtk       vtk0400000_imm.vtk   vtk0520000_ref.vtk\r\n",
        "\u001b[34mtest2\u001b[m\u001b[m/               velx0360000.dat      vtk0030000_ref.vtk   vtk0160000.vtk       vtk0280000_imm.vtk   vtk0400000_ref.vtk   vtk0530000.vtk\r\n",
        "velx0000000.dat      velx0370000.dat      vtk0040000.vtk       vtk0160000_imm.vtk   vtk0280000_ref.vtk   vtk0410000.vtk       vtk0530000_imm.vtk\r\n",
        "velx0010000.dat      velx0380000.dat      vtk0040000_imm.vtk   vtk0160000_ref.vtk   vtk0290000.vtk       vtk0410000_imm.vtk   vtk0530000_ref.vtk\r\n",
        "velx0020000.dat      velx0390000.dat      vtk0040000_ref.vtk   vtk0170000.vtk       vtk0290000_imm.vtk   vtk0410000_ref.vtk   vtk0540000.vtk\r\n",
        "velx0030000.dat      velx0400000.dat      vtk0050000.vtk       vtk0170000_imm.vtk   vtk0290000_ref.vtk   vtk0420000.vtk       vtk0540000_imm.vtk\r\n",
        "velx0040000.dat      velx0410000.dat      vtk0050000_imm.vtk   vtk0170000_ref.vtk   vtk0300000.vtk       vtk0420000_imm.vtk   vtk0540000_ref.vtk\r\n",
        "velx0050000.dat      velx0420000.dat      vtk0050000_ref.vtk   vtk0180000.vtk       vtk0300000_imm.vtk   vtk0420000_ref.vtk   vtk0550000.vtk\r\n",
        "velx0060000.dat      velx0430000.dat      vtk0060000.vtk       vtk0180000_imm.vtk   vtk0300000_ref.vtk   vtk0430000.vtk       vtk0550000_imm.vtk\r\n",
        "velx0070000.dat      velx0440000.dat      vtk0060000_imm.vtk   vtk0180000_ref.vtk   vtk0310000.vtk       vtk0430000_imm.vtk   vtk0550000_ref.vtk\r\n",
        "velx0080000.dat      velx0450000.dat      vtk0060000_ref.vtk   vtk0190000.vtk       vtk0310000_imm.vtk   vtk0430000_ref.vtk   vtk0560000.vtk\r\n",
        "velx0090000.dat      velx0460000.dat      vtk0070000.vtk       vtk0190000_imm.vtk   vtk0310000_ref.vtk   vtk0440000.vtk       vtk0560000_imm.vtk\r\n",
        "velx0100000.dat      velx0470000.dat      vtk0070000_imm.vtk   vtk0190000_ref.vtk   vtk0320000.vtk       vtk0440000_imm.vtk   vtk0560000_ref.vtk\r\n",
        "velx0110000.dat      velx0480000.dat      vtk0070000_ref.vtk   vtk0200000.vtk       vtk0320000_imm.vtk   vtk0440000_ref.vtk   vtk0570000.vtk\r\n",
        "velx0120000.dat      velx0490000.dat      vtk0080000.vtk       vtk0200000_imm.vtk   vtk0320000_ref.vtk   vtk0450000.vtk       vtk0570000_imm.vtk\r\n",
        "velx0130000.dat      velx0500000.dat      vtk0080000_imm.vtk   vtk0200000_ref.vtk   vtk0330000.vtk       vtk0450000_imm.vtk   vtk0570000_ref.vtk\r\n",
        "velx0140000.dat      velx0510000.dat      vtk0080000_ref.vtk   vtk0210000.vtk       vtk0330000_imm.vtk   vtk0450000_ref.vtk   vtk0580000.vtk\r\n",
        "velx0150000.dat      velx0520000.dat      vtk0090000.vtk       vtk0210000_imm.vtk   vtk0330000_ref.vtk   vtk0460000.vtk       vtk0580000_imm.vtk\r\n",
        "velx0160000.dat      velx0530000.dat      vtk0090000_imm.vtk   vtk0210000_ref.vtk   vtk0340000.vtk       vtk0460000_imm.vtk   vtk0580000_ref.vtk\r\n",
        "velx0170000.dat      velx0540000.dat      vtk0090000_ref.vtk   vtk0220000.vtk       vtk0340000_imm.vtk   vtk0460000_ref.vtk   vtk0590000.vtk\r\n",
        "velx0180000.dat      velx0550000.dat      vtk0100000.vtk       vtk0220000_imm.vtk   vtk0340000_ref.vtk   vtk0470000.vtk       vtk0590000_imm.vtk\r\n",
        "velx0190000.dat      velx0560000.dat      vtk0100000_imm.vtk   vtk0220000_ref.vtk   vtk0350000.vtk       vtk0470000_imm.vtk   vtk0590000_ref.vtk\r\n",
        "velx0200000.dat      velx0570000.dat      vtk0100000_ref.vtk   vtk0230000.vtk       vtk0350000_imm.vtk   vtk0470000_ref.vtk   vtk0600000.vtk\r\n",
        "velx0210000.dat      velx0580000.dat      vtk0110000.vtk       vtk0230000_imm.vtk   vtk0350000_ref.vtk   vtk0480000.vtk       vtk0600000_imm.vtk\r\n",
        "velx0220000.dat      velx0590000.dat      vtk0110000_imm.vtk   vtk0230000_ref.vtk   vtk0360000.vtk       vtk0480000_imm.vtk   vtk0600000_ref.vtk\r\n",
        "velx0230000.dat      velx0600000.dat      vtk0110000_ref.vtk   vtk0240000.vtk       vtk0360000_imm.vtk   vtk0480000_ref.vtk\r\n",
        "velx0240000.dat      visualization.ipynb  vtk0120000.vtk       vtk0240000_imm.vtk   vtk0360000_ref.vtk   vtk0490000.vtk\r\n",
        "velx0250000.dat      vtk0000000.vtk       vtk0120000_imm.vtk   vtk0240000_ref.vtk   vtk0370000.vtk       vtk0490000_imm.vtk\r\n",
        "velx0260000.dat      vtk0000000_imm.vtk   vtk0120000_ref.vtk   vtk0250000.vtk       vtk0370000_imm.vtk   vtk0490000_ref.vtk\r\n"
       ]
      }
     ],
     "prompt_number": 4
    },
    {
     "cell_type": "code",
     "collapsed": false,
     "input": [
      "arr=vtk.vtkStructuredGridReader()\n",
      "arr.SetFileName(\"vtk0400000.vtk\")\n",
      "arr.Update()"
     ],
     "language": "python",
     "metadata": {},
     "outputs": [],
     "prompt_number": 5
    },
    {
     "cell_type": "code",
     "collapsed": false,
     "input": [
      "grid=arr.GetOutput()\n",
      "points=grid.GetPoints()\n",
      "data=grid.GetPointData()\n",
      "data.Update()"
     ],
     "language": "python",
     "metadata": {},
     "outputs": [],
     "prompt_number": 6
    },
    {
     "cell_type": "raw",
     "metadata": {},
     "source": [
      "Get all the names of arrays"
     ]
    },
    {
     "cell_type": "code",
     "collapsed": false,
     "input": [
      "print data.GetArrayName(0),data.GetArrayName(1)"
     ],
     "language": "python",
     "metadata": {},
     "outputs": [
      {
       "output_type": "stream",
       "stream": "stdout",
       "text": [
        "density velocity\n"
       ]
      }
     ],
     "prompt_number": 7
    },
    {
     "cell_type": "code",
     "collapsed": false,
     "input": [
      "dims=grid.GetDimensions()\n",
      "density=data.GetArray(\"density\")\n",
      "velocity=data.GetArray(\"velocity\")"
     ],
     "language": "python",
     "metadata": {},
     "outputs": [],
     "prompt_number": 8
    },
    {
     "cell_type": "code",
     "collapsed": false,
     "input": [
      "dims"
     ],
     "language": "python",
     "metadata": {},
     "outputs": [
      {
       "output_type": "pyout",
       "prompt_number": 9,
       "text": [
        "(2000, 82, 1)"
       ]
      }
     ],
     "prompt_number": 9
    },
    {
     "cell_type": "code",
     "collapsed": false,
     "input": [
      "dens=numpy.zeros((dims[1],dims[0]))\n",
      "velx=numpy.zeros((dims[1],dims[0]))\n",
      "vely=numpy.zeros((dims[1],dims[0]))"
     ],
     "language": "python",
     "metadata": {},
     "outputs": [],
     "prompt_number": 10
    },
    {
     "cell_type": "code",
     "collapsed": false,
     "input": [
      "for i in range(0,dims[0]*dims[1]):\n",
      "    y=i/dims[0]\n",
      "    x=i%dims[0]\n",
      "    dens[y,x]=density.GetTuple1(i)\n",
      "    vx,vy,vz=velocity.GetTuple3(i)\n",
      "    velx[y,x]=vx\n",
      "    vely[y,x]=vy"
     ],
     "language": "python",
     "metadata": {},
     "outputs": [],
     "prompt_number": 11
    },
    {
     "cell_type": "code",
     "collapsed": false,
     "input": [
      "fig1=pylab.figure(1,figsize=(10,10))"
     ],
     "language": "python",
     "metadata": {},
     "outputs": [],
     "prompt_number": 30
    },
    {
     "cell_type": "code",
     "collapsed": false,
     "input": [
      "pylab.imshow(dens)"
     ],
     "language": "python",
     "metadata": {},
     "outputs": [
      {
       "output_type": "pyout",
       "prompt_number": 31,
       "text": [
        "<matplotlib.image.AxesImage at 0x1184f4290>"
       ]
      },
      {
       "output_type": "display_data",
       "png": "[encoded data removed]"
      }
     ],
     "prompt_number": 31
    },
    {
     "cell_type": "code",
     "collapsed": false,
     "input": [
      "fig2=pylab.figure(2,figsize=(10,12))"
     ],
     "language": "python",
     "metadata": {},
     "outputs": [],
     "prompt_number": 32
    },
    {
     "cell_type": "code",
     "collapsed": false,
     "input": [
      "pylab.imshow(velx)"
     ],
     "language": "python",
     "metadata": {},
     "outputs": [
      {
       "output_type": "pyout",
       "prompt_number": 34,
       "text": [
        "<matplotlib.image.AxesImage at 0x118ac7c90>"
       ]
      },
      {
       "output_type": "display_data",
       "png": "[encoded data removed]"
      }
     ],
     "prompt_number": 34
    },
    {
     "cell_type": "code",
     "collapsed": false,
     "input": [
      "pylab.show()"
     ],
     "language": "python",
     "metadata": {},
     "outputs": [],
     "prompt_number": 35
    },
    {
     "cell_type": "raw",
     "metadata": {},
     "source": [
      "Right now get some coordinates"
     ]
    },
    {
     "cell_type": "code",
     "collapsed": false,
     "input": [
      "coors=numpy.loadtxt(\"Data/coors4.dat\")"
     ],
     "language": "python",
     "metadata": {},
     "outputs": [],
     "prompt_number": 36
    },
    {
     "cell_type": "code",
     "collapsed": false,
     "input": [
      "realx=coors[:,0]/4800"
     ],
     "language": "python",
     "metadata": {},
     "outputs": [],
     "prompt_number": 37
    },
    {
     "cell_type": "code",
     "collapsed": false,
     "input": [
      "realy=coors[:,2]/80"
     ],
     "language": "python",
     "metadata": {},
     "outputs": [],
     "prompt_number": 38
    },
    {
     "cell_type": "code",
     "collapsed": false,
     "input": [
      "pylab.plot(realx,realy)\n",
      "pylab.xlim(xmin=0,xmax=120)\n",
      "pylab.ylim(ymin=0.2,ymax=0.65)"
     ],
     "language": "python",
     "metadata": {},
     "outputs": [
      {
       "output_type": "pyout",
       "prompt_number": 46,
       "text": [
        "(0.2, 0.65)"
       ]
      },
      {
       "output_type": "display_data",
       "png": "[encoded data removed]"
      }
     ],
     "prompt_number": 46
    },
    {
     "cell_type": "code",
     "collapsed": false,
     "input": [
      "pylab.show()"
     ],
     "language": "python",
     "metadata": {},
     "outputs": [],
     "prompt_number": 40
    },
    {
     "cell_type": "code",
     "collapsed": false,
     "input": [],
     "language": "python",
     "metadata": {},
     "outputs": [],
     "prompt_number": 21
    }
   ],
   "metadata": {}
  }
 ]
}